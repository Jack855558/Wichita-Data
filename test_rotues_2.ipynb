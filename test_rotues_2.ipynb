{
 "cells": [
  {
   "cell_type": "code",
   "execution_count": 1,
   "metadata": {},
   "outputs": [],
   "source": [
    "#Get data for streets, driving, biking, walk paths\n",
    "import osmnx as ox\n",
    "\n",
    "#Library for analyziing complex networks and graphs\n",
    "import networkx as nx\n",
    "\n",
    "#Converts address to latitude and longitude\n",
    "from geopy.geocoders import Nominatim\n",
    "\n",
    "#Interactive Graphs\n",
    "import folium\n",
    "\n",
    "#Static Graphing\n",
    "import matplotlib.pyplot as plt\n",
    "\n",
    "#Display final map\n",
    "from IPython.display import display\n",
    "\n",
    "#Methods to get Geopy.geocoders to work\n",
    "import ssl\n",
    "import certifi"
   ]
  },
  {
   "cell_type": "code",
   "execution_count": 2,
   "metadata": {},
   "outputs": [
    {
     "name": "stdout",
     "output_type": "stream",
     "text": [
      "Geocoded Address: 7331 Ayesbury Cir, Wichita KS -> (37.727137306122444, -97.25127428571429)\n",
      "Geocoded Address: 123 Douglas Ave, Wichita, KS -> (37.68591687755102, -97.33855526530613)\n"
     ]
    },
    {
     "ename": "KeyboardInterrupt",
     "evalue": "",
     "output_type": "error",
     "traceback": [
      "\u001b[31m---------------------------------------------------------------------------\u001b[39m",
      "\u001b[31mKeyboardInterrupt\u001b[39m                         Traceback (most recent call last)",
      "\u001b[36mCell\u001b[39m\u001b[36m \u001b[39m\u001b[32mIn[2]\u001b[39m\u001b[32m, line 43\u001b[39m\n\u001b[32m     40\u001b[39m \u001b[38;5;66;03m# **Route 2: Second shortest path (Yen’s Algorithm)**\u001b[39;00m\n\u001b[32m     41\u001b[39m G_simple = nx.DiGraph(G)\n\u001b[32m---> \u001b[39m\u001b[32m43\u001b[39m k_paths = \u001b[38;5;28;43mlist\u001b[39;49m\u001b[43m(\u001b[49m\u001b[43mnx\u001b[49m\u001b[43m.\u001b[49m\u001b[43mshortest_simple_paths\u001b[49m\u001b[43m(\u001b[49m\u001b[43mG_simple\u001b[49m\u001b[43m,\u001b[49m\u001b[43m \u001b[49m\u001b[43mstart_node\u001b[49m\u001b[43m,\u001b[49m\u001b[43m \u001b[49m\u001b[43mend_node\u001b[49m\u001b[43m,\u001b[49m\u001b[43m \u001b[49m\u001b[43mweight\u001b[49m\u001b[43m=\u001b[49m\u001b[33;43m'\u001b[39;49m\u001b[33;43mlength\u001b[39;49m\u001b[33;43m'\u001b[39;49m\u001b[43m)\u001b[49m\u001b[43m)\u001b[49m\n\u001b[32m     44\u001b[39m \u001b[38;5;28;01mif\u001b[39;00m \u001b[38;5;28mlen\u001b[39m(k_paths) > \u001b[32m1\u001b[39m:\n\u001b[32m     45\u001b[39m     second_route = k_paths[\u001b[32m1\u001b[39m]  \u001b[38;5;66;03m# Second best route\u001b[39;00m\n",
      "\u001b[36mFile \u001b[39m\u001b[32m~/Library/Mobile Documents/com~apple~CloudDocs/Wichita Data/myenv/lib/python3.11/site-packages/networkx/algorithms/simple_paths.py:532\u001b[39m, in \u001b[36mshortest_simple_paths\u001b[39m\u001b[34m(G, source, target, weight)\u001b[39m\n\u001b[32m    530\u001b[39m         ignore_edges.add((path[i - \u001b[32m1\u001b[39m], path[i]))\n\u001b[32m    531\u001b[39m \u001b[38;5;28;01mtry\u001b[39;00m:\n\u001b[32m--> \u001b[39m\u001b[32m532\u001b[39m     length, spur = \u001b[43mshortest_path_func\u001b[49m\u001b[43m(\u001b[49m\n\u001b[32m    533\u001b[39m \u001b[43m        \u001b[49m\u001b[43mG\u001b[49m\u001b[43m,\u001b[49m\n\u001b[32m    534\u001b[39m \u001b[43m        \u001b[49m\u001b[43mroot\u001b[49m\u001b[43m[\u001b[49m\u001b[43m-\u001b[49m\u001b[32;43m1\u001b[39;49m\u001b[43m]\u001b[49m\u001b[43m,\u001b[49m\n\u001b[32m    535\u001b[39m \u001b[43m        \u001b[49m\u001b[43mtarget\u001b[49m\u001b[43m,\u001b[49m\n\u001b[32m    536\u001b[39m \u001b[43m        \u001b[49m\u001b[43mignore_nodes\u001b[49m\u001b[43m=\u001b[49m\u001b[43mignore_nodes\u001b[49m\u001b[43m,\u001b[49m\n\u001b[32m    537\u001b[39m \u001b[43m        \u001b[49m\u001b[43mignore_edges\u001b[49m\u001b[43m=\u001b[49m\u001b[43mignore_edges\u001b[49m\u001b[43m,\u001b[49m\n\u001b[32m    538\u001b[39m \u001b[43m        \u001b[49m\u001b[43mweight\u001b[49m\u001b[43m=\u001b[49m\u001b[43mweight\u001b[49m\u001b[43m,\u001b[49m\n\u001b[32m    539\u001b[39m \u001b[43m    \u001b[49m\u001b[43m)\u001b[49m\n\u001b[32m    540\u001b[39m     path = root[:-\u001b[32m1\u001b[39m] + spur\n\u001b[32m    541\u001b[39m     listB.push(root_length + length, path)\n",
      "\u001b[36mFile \u001b[39m\u001b[32m~/Library/Mobile Documents/com~apple~CloudDocs/Wichita Data/myenv/lib/python3.11/site-packages/networkx/algorithms/simple_paths.py:928\u001b[39m, in \u001b[36m_bidirectional_dijkstra\u001b[39m\u001b[34m(G, source, target, weight, ignore_nodes, ignore_edges)\u001b[39m\n\u001b[32m    926\u001b[39m     minweight = wt(v, w, G.get_edge_data(v, w))\n\u001b[32m    927\u001b[39m \u001b[38;5;28;01melse\u001b[39;00m:  \u001b[38;5;66;03m# back, must remember to change v,w->w,v\u001b[39;00m\n\u001b[32m--> \u001b[39m\u001b[32m928\u001b[39m     minweight = \u001b[43mwt\u001b[49m\u001b[43m(\u001b[49m\u001b[43mw\u001b[49m\u001b[43m,\u001b[49m\u001b[43m \u001b[49m\u001b[43mv\u001b[49m\u001b[43m,\u001b[49m\u001b[43m \u001b[49m\u001b[43mG\u001b[49m\u001b[43m.\u001b[49m\u001b[43mget_edge_data\u001b[49m\u001b[43m(\u001b[49m\u001b[43mw\u001b[49m\u001b[43m,\u001b[49m\u001b[43m \u001b[49m\u001b[43mv\u001b[49m\u001b[43m)\u001b[49m\u001b[43m)\u001b[49m\n\u001b[32m    929\u001b[39m \u001b[38;5;28;01mif\u001b[39;00m minweight \u001b[38;5;129;01mis\u001b[39;00m \u001b[38;5;28;01mNone\u001b[39;00m:\n\u001b[32m    930\u001b[39m     \u001b[38;5;28;01mcontinue\u001b[39;00m\n",
      "\u001b[36mFile \u001b[39m\u001b[32m~/Library/Mobile Documents/com~apple~CloudDocs/Wichita Data/myenv/lib/python3.11/site-packages/networkx/algorithms/shortest_paths/weighted.py:78\u001b[39m, in \u001b[36m_weight_function.<locals>.<lambda>\u001b[39m\u001b[34m(u, v, data)\u001b[39m\n\u001b[32m     76\u001b[39m \u001b[38;5;28;01mif\u001b[39;00m G.is_multigraph():\n\u001b[32m     77\u001b[39m     \u001b[38;5;28;01mreturn\u001b[39;00m \u001b[38;5;28;01mlambda\u001b[39;00m u, v, d: \u001b[38;5;28mmin\u001b[39m(attr.get(weight, \u001b[32m1\u001b[39m) \u001b[38;5;28;01mfor\u001b[39;00m attr \u001b[38;5;129;01min\u001b[39;00m d.values())\n\u001b[32m---> \u001b[39m\u001b[32m78\u001b[39m \u001b[38;5;28;01mreturn\u001b[39;00m \u001b[38;5;28;01mlambda\u001b[39;00m u, v, data: data.get(weight, \u001b[32m1\u001b[39m)\n",
      "\u001b[31mKeyboardInterrupt\u001b[39m: "
     ]
    }
   ],
   "source": [
    "# Create an SSL context that uses certifi's certificate bundle\n",
    "ssl_context = ssl.create_default_context(cafile=certifi.where())\n",
    "\n",
    "#Initialize Geolocater for the cordinates\n",
    "geolocator = Nominatim(user_agent='wichita_nav', ssl_context=ssl_context)\n",
    "\n",
    "# Generate road network for Wichita\n",
    "G = ox.graph_from_place('Wichita, Kansas, USA', network_type='drive')\n",
    "\n",
    "# Function to plot paths on the map\n",
    "def plot_route(G, route, route_map, color='blue'):\n",
    "    route_points = [(G.nodes[node]['y'], G.nodes[node]['x']) for node in route]\n",
    "    folium.PolyLine(route_points, color=color, weight=4.5, opacity=0.7).add_to(route_map)\n",
    "\n",
    "#Function to get nearest node from a location\n",
    "def get_nearest_node(address): \n",
    "    location = geolocator.geocode(address, timeout=10)  # 5 sec timeout \n",
    "    if location:\n",
    "        print(f\"Geocoded Address: {address} -> ({location.latitude}, {location.longitude})\")  # Debugging output\n",
    "        return ox.distance.nearest_nodes(G, X=location.longitude, Y=location.latitude)\n",
    "    else: \n",
    "        print(f\"Failed to geocode address: {address}\")  # Identify the issue\n",
    "        return None\n",
    "\n",
    "# Example start and end addresses\n",
    "start_address = \"7331 Ayesbury Cir, Wichita KS\"\n",
    "end_address = \"123 Douglas Ave, Wichita, KS\"\n",
    "\n",
    "start_node = get_nearest_node(start_address)\n",
    "end_node = get_nearest_node(end_address)\n",
    "\n",
    "if start_node and end_node:\n",
    "    #interactive map\n",
    "    route_map = folium.Map(location=[37.6872, -97.3301], zoom_start=12)  # Centering on Wichita\n",
    "\n",
    "    #Route 1 shortest path using Dijkstra's algorithm\n",
    "    shortest_route = nx.shortest_path(G, start_node, end_node, weight='length')\n",
    "    plot_route(G, shortest_route, route_map, color='blue')\n",
    "\n",
    "    # **Route 2: Second shortest path (Yen’s Algorithm)**\n",
    "    G_simple = nx.DiGraph(G)\n",
    "\n",
    "    k_paths = list(nx.shortest_simple_paths(G_simple, start_node, end_node, weight='length'))\n",
    "    if len(k_paths) > 1:\n",
    "        second_route = k_paths[1]  # Second best route\n",
    "        plot_route(G, second_route, route_map, color='red')\n",
    "    else: \n",
    "        second_route = None\n",
    "    \n",
    "    # **Route 3: Alternative path by modifying edge weights**\n",
    "    # G_alt = G.copy()\n",
    "    # for u, v, d in G_alt.edges(data=True):\n",
    "    #     d['length'] *= 1.2  # Slightly increase all distances to favor alternate paths\n",
    "\n",
    "    # alt_route = nx.shortest_path(G_alt, start_node, end_node, weight='length')\n",
    "    # plot_route(G, alt_route, route_map, color='green')\n",
    "\n",
    "    #Add markers for start and end points\n",
    "    folium.Marker([(G.nodes[start_node]['y'], G.nodes[start_node]['x'])], popup='Start').add_to(route_map)\n",
    "    folium.Marker([(G.nodes[end_node]['y'], G.nodes[end_node]['x'])], popup='End').add_to(route_map)\n",
    "\n",
    "     # Display map\n",
    "    display(route_map)\n",
    "else:\n",
    "    print(\"Error: One of the addresses could not be geocoded.\")\n",
    "\n",
    "\n",
    "    "
   ]
  },
  {
   "cell_type": "code",
   "execution_count": null,
   "metadata": {},
   "outputs": [],
   "source": []
  },
  {
   "cell_type": "code",
   "execution_count": null,
   "metadata": {},
   "outputs": [],
   "source": []
  }
 ],
 "metadata": {
  "kernelspec": {
   "display_name": "myenv",
   "language": "python",
   "name": "python3"
  },
  "language_info": {
   "codemirror_mode": {
    "name": "ipython",
    "version": 3
   },
   "file_extension": ".py",
   "mimetype": "text/x-python",
   "name": "python",
   "nbconvert_exporter": "python",
   "pygments_lexer": "ipython3",
   "version": "3.11.5"
  }
 },
 "nbformat": 4,
 "nbformat_minor": 2
}
